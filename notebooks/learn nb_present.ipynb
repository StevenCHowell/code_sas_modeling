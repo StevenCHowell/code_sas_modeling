{
 "cells": [
  {
   "cell_type": "markdown",
   "metadata": {},
   "source": [
    "# Hello, _nbpresent_!"
   ]
  },
  {
   "cell_type": "code",
   "execution_count": null,
   "metadata": {
    "collapsed": true
   },
   "outputs": [],
   "source": [
    "import nbpresent\n",
    "nbpresent.__version__"
   ]
  },
  {
   "cell_type": "markdown",
   "metadata": {
    "nbpresent": {
     "id": "cba22e48-d15e-4411-a8f4-40d9ca8b68a8"
    }
   },
   "source": [
    "# My First NB Presentation\n",
    "## Steven C. Howell\n",
    "### 6 Jan 2017"
   ]
  },
  {
   "cell_type": "markdown",
   "metadata": {
    "nbpresent": {
     "id": "7613fd37-b3c6-458a-9b9b-4a2d34a9e735"
    }
   },
   "source": [
    "Contents go here:\n",
    "- statements\n",
    "- questions\n",
    "- answers"
   ]
  },
  {
   "cell_type": "markdown",
   "metadata": {
    "nbpresent": {
     "id": "242120e6-bfd3-44e5-8798-7170b82c2cd7"
    }
   },
   "source": [
    "here is an image ![don's forget the !](http://www.techinsights.com/uploadedImages/Public_Website/Content_-_Primary/Teardowncom/Sample_Reports/sample-icon.png)"
   ]
  },
  {
   "cell_type": "markdown",
   "metadata": {},
   "source": [
    "Skip this cell."
   ]
  },
  {
   "cell_type": "markdown",
   "metadata": {},
   "source": [
    "Here's our logo (hover to see the title text):\n",
    "\n",
    "Inline-style: \n",
    "![alt text](https://github.com/adam-p/markdown-here/raw/master/src/common/images/icon48.png \"Logo Title Text 1\")\n",
    "\n",
    "Reference-style: \n",
    "![alt text][logo]\n",
    "\n",
    "[logo]: https://github.com/adam-p/markdown-here/raw/master/src/common/images/icon48.png \"Logo Title Text 2\""
   ]
  },
  {
   "cell_type": "markdown",
   "metadata": {
    "nbpresent": {
     "id": "6811bdb9-a356-430b-91ac-894a63226fb4"
    }
   },
   "source": [
    "Here is some important code:\n",
    "\n"
   ]
  },
  {
   "cell_type": "code",
   "execution_count": 12,
   "metadata": {
    "collapsed": false,
    "nbpresent": {
     "id": "1aaea62d-aa53-4dea-9b6a-b266bb7d3dd1"
    }
   },
   "outputs": [],
   "source": [
    "import numpy as np\n",
    "x = np.linspace(0, 2*np.pi, 100)\n",
    "y = np.sin(x)"
   ]
  },
  {
   "cell_type": "code",
   "execution_count": 10,
   "metadata": {
    "collapsed": false,
    "nbpresent": {
     "id": "a28f2568-5863-4a8a-9820-4af6f572a9e2"
    },
    "scrolled": true
   },
   "outputs": [
    {
     "data": {
      "text/html": [
       "\n",
       "    <div class=\"bk-root\">\n",
       "        <a href=\"http://bokeh.pydata.org\" target=\"_blank\" class=\"bk-logo bk-logo-small bk-logo-notebook\"></a>\n",
       "        <span id=\"84a8c59c-5257-4444-acfc-3cda46bdd52d\">Loading BokehJS ...</span>\n",
       "    </div>"
      ]
     },
     "metadata": {},
     "output_type": "display_data"
    },
    {
     "data": {
      "application/javascript": [
       "\n",
       "(function(global) {\n",
       "  function now() {\n",
       "    return new Date();\n",
       "  }\n",
       "\n",
       "  var force = \"1\";\n",
       "\n",
       "  if (typeof (window._bokeh_onload_callbacks) === \"undefined\" || force !== \"\") {\n",
       "    window._bokeh_onload_callbacks = [];\n",
       "    window._bokeh_is_loading = undefined;\n",
       "  }\n",
       "\n",
       "\n",
       "  \n",
       "  if (typeof (window._bokeh_timeout) === \"undefined\" || force !== \"\") {\n",
       "    window._bokeh_timeout = Date.now() + 5000;\n",
       "    window._bokeh_failed_load = false;\n",
       "  }\n",
       "\n",
       "  var NB_LOAD_WARNING = {'data': {'text/html':\n",
       "     \"<div style='background-color: #fdd'>\\n\"+\n",
       "     \"<p>\\n\"+\n",
       "     \"BokehJS does not appear to have successfully loaded. If loading BokehJS from CDN, this \\n\"+\n",
       "     \"may be due to a slow or bad network connection. Possible fixes:\\n\"+\n",
       "     \"</p>\\n\"+\n",
       "     \"<ul>\\n\"+\n",
       "     \"<li>re-rerun `output_notebook()` to attempt to load from CDN again, or</li>\\n\"+\n",
       "     \"<li>use INLINE resources instead, as so:</li>\\n\"+\n",
       "     \"</ul>\\n\"+\n",
       "     \"<code>\\n\"+\n",
       "     \"from bokeh.resources import INLINE\\n\"+\n",
       "     \"output_notebook(resources=INLINE)\\n\"+\n",
       "     \"</code>\\n\"+\n",
       "     \"</div>\"}};\n",
       "\n",
       "  function display_loaded() {\n",
       "    if (window.Bokeh !== undefined) {\n",
       "      Bokeh.$(\"#84a8c59c-5257-4444-acfc-3cda46bdd52d\").text(\"BokehJS successfully loaded.\");\n",
       "    } else if (Date.now() < window._bokeh_timeout) {\n",
       "      setTimeout(display_loaded, 100)\n",
       "    }\n",
       "  }\n",
       "\n",
       "  function run_callbacks() {\n",
       "    window._bokeh_onload_callbacks.forEach(function(callback) { callback() });\n",
       "    delete window._bokeh_onload_callbacks\n",
       "    console.info(\"Bokeh: all callbacks have finished\");\n",
       "  }\n",
       "\n",
       "  function load_libs(js_urls, callback) {\n",
       "    window._bokeh_onload_callbacks.push(callback);\n",
       "    if (window._bokeh_is_loading > 0) {\n",
       "      console.log(\"Bokeh: BokehJS is being loaded, scheduling callback at\", now());\n",
       "      return null;\n",
       "    }\n",
       "    if (js_urls == null || js_urls.length === 0) {\n",
       "      run_callbacks();\n",
       "      return null;\n",
       "    }\n",
       "    console.log(\"Bokeh: BokehJS not loaded, scheduling load and callback at\", now());\n",
       "    window._bokeh_is_loading = js_urls.length;\n",
       "    for (var i = 0; i < js_urls.length; i++) {\n",
       "      var url = js_urls[i];\n",
       "      var s = document.createElement('script');\n",
       "      s.src = url;\n",
       "      s.async = false;\n",
       "      s.onreadystatechange = s.onload = function() {\n",
       "        window._bokeh_is_loading--;\n",
       "        if (window._bokeh_is_loading === 0) {\n",
       "          console.log(\"Bokeh: all BokehJS libraries loaded\");\n",
       "          run_callbacks()\n",
       "        }\n",
       "      };\n",
       "      s.onerror = function() {\n",
       "        console.warn(\"failed to load library \" + url);\n",
       "      };\n",
       "      console.log(\"Bokeh: injecting script tag for BokehJS library: \", url);\n",
       "      document.getElementsByTagName(\"head\")[0].appendChild(s);\n",
       "    }\n",
       "  };var element = document.getElementById(\"84a8c59c-5257-4444-acfc-3cda46bdd52d\");\n",
       "  if (element == null) {\n",
       "    console.log(\"Bokeh: ERROR: autoload.js configured with elementid '84a8c59c-5257-4444-acfc-3cda46bdd52d' but no matching script tag was found. \")\n",
       "    return false;\n",
       "  }\n",
       "\n",
       "  var js_urls = ['https://cdn.pydata.org/bokeh/release/bokeh-0.12.3.min.js', 'https://cdn.pydata.org/bokeh/release/bokeh-widgets-0.12.3.min.js'];\n",
       "\n",
       "  var inline_js = [\n",
       "    function(Bokeh) {\n",
       "      Bokeh.set_log_level(\"info\");\n",
       "    },\n",
       "    \n",
       "    function(Bokeh) {\n",
       "      \n",
       "      Bokeh.$(\"#84a8c59c-5257-4444-acfc-3cda46bdd52d\").text(\"BokehJS is loading...\");\n",
       "    },\n",
       "    function(Bokeh) {\n",
       "      console.log(\"Bokeh: injecting CSS: https://cdn.pydata.org/bokeh/release/bokeh-0.12.3.min.css\");\n",
       "      Bokeh.embed.inject_css(\"https://cdn.pydata.org/bokeh/release/bokeh-0.12.3.min.css\");\n",
       "      console.log(\"Bokeh: injecting CSS: https://cdn.pydata.org/bokeh/release/bokeh-widgets-0.12.3.min.css\");\n",
       "      Bokeh.embed.inject_css(\"https://cdn.pydata.org/bokeh/release/bokeh-widgets-0.12.3.min.css\");\n",
       "    }\n",
       "  ];\n",
       "\n",
       "  function run_inline_js() {\n",
       "    \n",
       "    if ((window.Bokeh !== undefined) || (force === \"1\")) {\n",
       "      for (var i = 0; i < inline_js.length; i++) {\n",
       "        inline_js[i](window.Bokeh);\n",
       "      }if (force === \"1\") {\n",
       "        display_loaded();\n",
       "      }} else if (Date.now() < window._bokeh_timeout) {\n",
       "      setTimeout(run_inline_js, 100);\n",
       "    } else if (!window._bokeh_failed_load) {\n",
       "      console.log(\"Bokeh: BokehJS failed to load within specified timeout.\");\n",
       "      window._bokeh_failed_load = true;\n",
       "    } else if (!force) {\n",
       "      var cell = $(\"#84a8c59c-5257-4444-acfc-3cda46bdd52d\").parents('.cell').data().cell;\n",
       "      cell.output_area.append_execute_result(NB_LOAD_WARNING)\n",
       "    }\n",
       "\n",
       "  }\n",
       "\n",
       "  if (window._bokeh_is_loading === 0) {\n",
       "    console.log(\"Bokeh: BokehJS loaded, going straight to plotting\");\n",
       "    run_inline_js();\n",
       "  } else {\n",
       "    load_libs(js_urls, function() {\n",
       "      console.log(\"Bokeh: BokehJS plotting callback run at\", now());\n",
       "      run_inline_js();\n",
       "    });\n",
       "  }\n",
       "}(this));"
      ]
     },
     "metadata": {},
     "output_type": "display_data"
    }
   ],
   "source": [
    "from bokeh.plotting import figure\n",
    "from bokeh.io import output_notebook, show\n",
    "output_notebook()"
   ]
  },
  {
   "cell_type": "code",
   "execution_count": 13,
   "metadata": {
    "collapsed": false,
    "nbpresent": {
     "id": "7dab0746-41a8-49f0-abcd-95dac79f1f00"
    }
   },
   "outputs": [
    {
     "data": {
      "text/html": [
       "\n",
       "\n",
       "    <div class=\"bk-root\">\n",
       "        <div class=\"plotdiv\" id=\"e7e68715-5813-4c1f-a69b-d214ff458f1d\"></div>\n",
       "    </div>\n",
       "<script type=\"text/javascript\">\n",
       "  \n",
       "  (function(global) {\n",
       "    function now() {\n",
       "      return new Date();\n",
       "    }\n",
       "  \n",
       "    var force = \"\";\n",
       "  \n",
       "    if (typeof (window._bokeh_onload_callbacks) === \"undefined\" || force !== \"\") {\n",
       "      window._bokeh_onload_callbacks = [];\n",
       "      window._bokeh_is_loading = undefined;\n",
       "    }\n",
       "  \n",
       "  \n",
       "    \n",
       "    if (typeof (window._bokeh_timeout) === \"undefined\" || force !== \"\") {\n",
       "      window._bokeh_timeout = Date.now() + 0;\n",
       "      window._bokeh_failed_load = false;\n",
       "    }\n",
       "  \n",
       "    var NB_LOAD_WARNING = {'data': {'text/html':\n",
       "       \"<div style='background-color: #fdd'>\\n\"+\n",
       "       \"<p>\\n\"+\n",
       "       \"BokehJS does not appear to have successfully loaded. If loading BokehJS from CDN, this \\n\"+\n",
       "       \"may be due to a slow or bad network connection. Possible fixes:\\n\"+\n",
       "       \"</p>\\n\"+\n",
       "       \"<ul>\\n\"+\n",
       "       \"<li>re-rerun `output_notebook()` to attempt to load from CDN again, or</li>\\n\"+\n",
       "       \"<li>use INLINE resources instead, as so:</li>\\n\"+\n",
       "       \"</ul>\\n\"+\n",
       "       \"<code>\\n\"+\n",
       "       \"from bokeh.resources import INLINE\\n\"+\n",
       "       \"output_notebook(resources=INLINE)\\n\"+\n",
       "       \"</code>\\n\"+\n",
       "       \"</div>\"}};\n",
       "  \n",
       "    function display_loaded() {\n",
       "      if (window.Bokeh !== undefined) {\n",
       "        Bokeh.$(\"#e7e68715-5813-4c1f-a69b-d214ff458f1d\").text(\"BokehJS successfully loaded.\");\n",
       "      } else if (Date.now() < window._bokeh_timeout) {\n",
       "        setTimeout(display_loaded, 100)\n",
       "      }\n",
       "    }\n",
       "  \n",
       "    function run_callbacks() {\n",
       "      window._bokeh_onload_callbacks.forEach(function(callback) { callback() });\n",
       "      delete window._bokeh_onload_callbacks\n",
       "      console.info(\"Bokeh: all callbacks have finished\");\n",
       "    }\n",
       "  \n",
       "    function load_libs(js_urls, callback) {\n",
       "      window._bokeh_onload_callbacks.push(callback);\n",
       "      if (window._bokeh_is_loading > 0) {\n",
       "        console.log(\"Bokeh: BokehJS is being loaded, scheduling callback at\", now());\n",
       "        return null;\n",
       "      }\n",
       "      if (js_urls == null || js_urls.length === 0) {\n",
       "        run_callbacks();\n",
       "        return null;\n",
       "      }\n",
       "      console.log(\"Bokeh: BokehJS not loaded, scheduling load and callback at\", now());\n",
       "      window._bokeh_is_loading = js_urls.length;\n",
       "      for (var i = 0; i < js_urls.length; i++) {\n",
       "        var url = js_urls[i];\n",
       "        var s = document.createElement('script');\n",
       "        s.src = url;\n",
       "        s.async = false;\n",
       "        s.onreadystatechange = s.onload = function() {\n",
       "          window._bokeh_is_loading--;\n",
       "          if (window._bokeh_is_loading === 0) {\n",
       "            console.log(\"Bokeh: all BokehJS libraries loaded\");\n",
       "            run_callbacks()\n",
       "          }\n",
       "        };\n",
       "        s.onerror = function() {\n",
       "          console.warn(\"failed to load library \" + url);\n",
       "        };\n",
       "        console.log(\"Bokeh: injecting script tag for BokehJS library: \", url);\n",
       "        document.getElementsByTagName(\"head\")[0].appendChild(s);\n",
       "      }\n",
       "    };var element = document.getElementById(\"e7e68715-5813-4c1f-a69b-d214ff458f1d\");\n",
       "    if (element == null) {\n",
       "      console.log(\"Bokeh: ERROR: autoload.js configured with elementid 'e7e68715-5813-4c1f-a69b-d214ff458f1d' but no matching script tag was found. \")\n",
       "      return false;\n",
       "    }\n",
       "  \n",
       "    var js_urls = [];\n",
       "  \n",
       "    var inline_js = [\n",
       "      function(Bokeh) {\n",
       "        Bokeh.$(function() {\n",
       "            var docs_json = {\"d4d8c45c-43f6-4967-9a6f-873aacb926de\":{\"roots\":{\"references\":[{\"attributes\":{\"plot\":{\"id\":\"297390bb-a1a8-47d7-bc9a-2377f9d7ac23\",\"subtype\":\"Figure\",\"type\":\"Plot\"}},\"id\":\"b522e66b-928a-422f-8d08-969d63308e16\",\"type\":\"SaveTool\"},{\"attributes\":{\"plot\":{\"id\":\"297390bb-a1a8-47d7-bc9a-2377f9d7ac23\",\"subtype\":\"Figure\",\"type\":\"Plot\"}},\"id\":\"140c8b17-a81a-492e-aee2-0377a96bf680\",\"type\":\"HelpTool\"},{\"attributes\":{\"callback\":null,\"column_names\":[\"y\",\"x\"],\"data\":{\"x\":[0.0,0.06346651825433926,0.12693303650867852,0.1903995547630178,0.25386607301735703,0.3173325912716963,0.3807991095260356,0.4442656277803748,0.5077321460347141,0.5711986642890533,0.6346651825433925,0.6981317007977318,0.7615982190520711,0.8250647373064104,0.8885312555607496,0.9519977738150889,1.0154642920694281,1.0789308103237674,1.1423973285781066,1.2058638468324459,1.269330365086785,1.3327968833411243,1.3962634015954636,1.4597299198498028,1.5231964381041423,1.5866629563584815,1.6501294746128208,1.71359599286716,1.7770625111214993,1.8405290293758385,1.9039955476301778,1.967462065884517,2.0309285841388562,2.0943951023931957,2.1578616206475347,2.221328138901874,2.284794657156213,2.3482611754105527,2.4117276936648917,2.475194211919231,2.53866073017357,2.6021272484279097,2.6655937666822487,2.729060284936588,2.792526803190927,2.8559933214452666,2.9194598396996057,2.982926357953945,3.0463928762082846,3.1098593944626236,3.173325912716963,3.236792430971302,3.3002589492256416,3.3637254674799806,3.42719198573432,3.490658503988659,3.5541250222429985,3.6175915404973376,3.681058058751677,3.744524577006016,3.8079910952603555,3.8714576135146945,3.934924131769034,3.998390650023373,4.0618571682777125,4.1253236865320515,4.188790204786391,4.25225672304073,4.3157232412950695,4.3791897595494085,4.442656277803748,4.506122796058087,4.569589314312426,4.6330558325667655,4.696522350821105,4.759988869075444,4.823455387329783,4.886921905584122,4.950388423838462,5.013854942092801,5.07732146034714,5.14078797860148,5.204254496855819,5.267721015110158,5.331187533364497,5.394654051618837,5.458120569873176,5.521587088127515,5.585053606381854,5.648520124636194,5.711986642890533,5.775453161144872,5.838919679399211,5.902386197653551,5.96585271590789,6.029319234162229,6.092785752416569,6.156252270670908,6.219718788925247,6.283185307179586],\"y\":[0.0,0.0634239196565645,0.12659245357374926,0.18925124436041021,0.2511479871810792,0.31203344569848707,0.3716624556603276,0.42979491208917164,0.4861967361004687,0.5406408174555976,0.5929079290546404,0.6427876096865393,0.690079011482112,0.7345917086575333,0.7761464642917568,0.8145759520503357,0.8497254299495144,0.8814533634475821,0.9096319953545183,0.9341478602651068,0.9549022414440739,0.9718115683235417,0.984807753012208,0.9938384644612541,0.998867339183008,0.9998741276738751,0.9968547759519424,0.9898214418809327,0.9788024462147787,0.963842158559942,0.9450008187146685,0.9223542941045814,0.8959937742913359,0.8660254037844386,0.8325698546347714,0.795761840530832,0.7557495743542584,0.7126941713788628,0.6667690005162916,0.6181589862206051,0.5670598638627709,0.5136773915734063,0.4582265217274105,0.4009305354066136,0.3420201433256689,0.2817325568414296,0.2203105327865408,0.15800139597334986,0.09505604330418244,0.031727933498067656,-0.03172793349806785,-0.09505604330418263,-0.15800139597335008,-0.22031053278654059,-0.28173255684142984,-0.34202014332566866,-0.40093053540661383,-0.4582265217274103,-0.5136773915734064,-0.5670598638627706,-0.6181589862206053,-0.6667690005162915,-0.7126941713788628,-0.7557495743542582,-0.7957618405308321,-0.8325698546347713,-0.8660254037844388,-0.895993774291336,-0.9223542941045814,-0.9450008187146683,-0.9638421585599422,-0.9788024462147787,-0.9898214418809327,-0.9968547759519423,-0.9998741276738751,-0.998867339183008,-0.9938384644612541,-0.9848077530122081,-0.9718115683235417,-0.9549022414440739,-0.9341478602651068,-0.9096319953545182,-0.881453363447582,-0.8497254299495144,-0.814575952050336,-0.7761464642917566,-0.7345917086575331,-0.690079011482112,-0.6427876096865396,-0.5929079290546402,-0.5406408174555974,-0.48619673610046876,-0.4297949120891719,-0.37166245566032724,-0.31203344569848707,-0.25114798718107934,-0.18925124436040974,-0.12659245357374904,-0.06342391965656452,-2.4492935982947064e-16]}},\"id\":\"e4c957f6-ee18-45a4-9ecf-704901451ef9\",\"type\":\"ColumnDataSource\"},{\"attributes\":{\"line_alpha\":{\"value\":0.1},\"line_color\":{\"value\":\"#1f77b4\"},\"line_width\":{\"value\":2},\"x\":{\"field\":\"x\"},\"y\":{\"field\":\"y\"}},\"id\":\"a065aa59-92b4-4963-b192-c8e9d1f442a9\",\"type\":\"Line\"},{\"attributes\":{\"callback\":null},\"id\":\"8a931cd2-db3f-4964-b769-b112c0174614\",\"type\":\"DataRange1d\"},{\"attributes\":{\"plot\":{\"id\":\"297390bb-a1a8-47d7-bc9a-2377f9d7ac23\",\"subtype\":\"Figure\",\"type\":\"Plot\"},\"ticker\":{\"id\":\"76ed07d3-e7f9-45a7-ae5f-3a54e9d8b5a4\",\"type\":\"BasicTicker\"}},\"id\":\"a3f0a198-d919-43c7-acdf-3c592791f4ff\",\"type\":\"Grid\"},{\"attributes\":{},\"id\":\"d686fa37-1cea-4edd-9d37-cd377634119d\",\"type\":\"BasicTicker\"},{\"attributes\":{\"axis_label\":\"x\",\"formatter\":{\"id\":\"43473ec8-3d8f-4417-845d-370ae56c3652\",\"type\":\"BasicTickFormatter\"},\"plot\":{\"id\":\"297390bb-a1a8-47d7-bc9a-2377f9d7ac23\",\"subtype\":\"Figure\",\"type\":\"Plot\"},\"ticker\":{\"id\":\"76ed07d3-e7f9-45a7-ae5f-3a54e9d8b5a4\",\"type\":\"BasicTicker\"}},\"id\":\"128d83f7-ab41-42b8-ba59-b98eceefa181\",\"type\":\"LinearAxis\"},{\"attributes\":{\"callback\":null},\"id\":\"50675a3f-cd16-40ed-839f-80de87d1cad6\",\"type\":\"DataRange1d\"},{\"attributes\":{},\"id\":\"b68fcd8b-9a0f-4325-baa3-bdc25e28eeca\",\"type\":\"BasicTickFormatter\"},{\"attributes\":{},\"id\":\"0382bb0d-c97e-4da7-8c13-aa074b1b3aea\",\"type\":\"ToolEvents\"},{\"attributes\":{\"plot\":{\"id\":\"297390bb-a1a8-47d7-bc9a-2377f9d7ac23\",\"subtype\":\"Figure\",\"type\":\"Plot\"}},\"id\":\"979b03f3-d4e2-4712-95c4-bd74217d0d96\",\"type\":\"PanTool\"},{\"attributes\":{\"dimension\":1,\"plot\":{\"id\":\"297390bb-a1a8-47d7-bc9a-2377f9d7ac23\",\"subtype\":\"Figure\",\"type\":\"Plot\"},\"ticker\":{\"id\":\"d686fa37-1cea-4edd-9d37-cd377634119d\",\"type\":\"BasicTicker\"}},\"id\":\"d74f087f-c3dc-4a98-be59-708df2cfbcc9\",\"type\":\"Grid\"},{\"attributes\":{\"plot\":{\"id\":\"297390bb-a1a8-47d7-bc9a-2377f9d7ac23\",\"subtype\":\"Figure\",\"type\":\"Plot\"}},\"id\":\"26ef5519-281c-4f79-985c-fdd9c44b63d7\",\"type\":\"ResetTool\"},{\"attributes\":{\"line_color\":{\"value\":\"#1f77b4\"},\"line_width\":{\"value\":2},\"x\":{\"field\":\"x\"},\"y\":{\"field\":\"y\"}},\"id\":\"375173ad-eb3e-454d-b7c3-982488a3cc5b\",\"type\":\"Line\"},{\"attributes\":{\"axis_label\":\"y\",\"formatter\":{\"id\":\"b68fcd8b-9a0f-4325-baa3-bdc25e28eeca\",\"type\":\"BasicTickFormatter\"},\"plot\":{\"id\":\"297390bb-a1a8-47d7-bc9a-2377f9d7ac23\",\"subtype\":\"Figure\",\"type\":\"Plot\"},\"ticker\":{\"id\":\"d686fa37-1cea-4edd-9d37-cd377634119d\",\"type\":\"BasicTicker\"}},\"id\":\"45e9a4c2-a552-47d7-85e1-408d9d507eb2\",\"type\":\"LinearAxis\"},{\"attributes\":{\"plot\":{\"id\":\"297390bb-a1a8-47d7-bc9a-2377f9d7ac23\",\"subtype\":\"Figure\",\"type\":\"Plot\"}},\"id\":\"5279adc6-cfe5-4493-b3bb-cb789af08dbd\",\"type\":\"WheelZoomTool\"},{\"attributes\":{\"below\":[{\"id\":\"128d83f7-ab41-42b8-ba59-b98eceefa181\",\"type\":\"LinearAxis\"}],\"left\":[{\"id\":\"45e9a4c2-a552-47d7-85e1-408d9d507eb2\",\"type\":\"LinearAxis\"}],\"plot_height\":300,\"plot_width\":300,\"renderers\":[{\"id\":\"128d83f7-ab41-42b8-ba59-b98eceefa181\",\"type\":\"LinearAxis\"},{\"id\":\"a3f0a198-d919-43c7-acdf-3c592791f4ff\",\"type\":\"Grid\"},{\"id\":\"45e9a4c2-a552-47d7-85e1-408d9d507eb2\",\"type\":\"LinearAxis\"},{\"id\":\"d74f087f-c3dc-4a98-be59-708df2cfbcc9\",\"type\":\"Grid\"},{\"id\":\"a9c64a08-076b-4fab-9e0e-d0eb1af54b49\",\"type\":\"BoxAnnotation\"},{\"id\":\"773aff8b-e542-41f3-8ddf-37ba4040d664\",\"type\":\"GlyphRenderer\"}],\"title\":{\"id\":\"acf783ca-3867-4c9f-866c-35ac00d917d8\",\"type\":\"Title\"},\"tool_events\":{\"id\":\"0382bb0d-c97e-4da7-8c13-aa074b1b3aea\",\"type\":\"ToolEvents\"},\"toolbar\":{\"id\":\"ae5ff6ad-e995-4e2d-9092-711916936d5f\",\"type\":\"Toolbar\"},\"x_range\":{\"id\":\"50675a3f-cd16-40ed-839f-80de87d1cad6\",\"type\":\"DataRange1d\"},\"y_range\":{\"id\":\"8a931cd2-db3f-4964-b769-b112c0174614\",\"type\":\"DataRange1d\"}},\"id\":\"297390bb-a1a8-47d7-bc9a-2377f9d7ac23\",\"subtype\":\"Figure\",\"type\":\"Plot\"},{\"attributes\":{},\"id\":\"43473ec8-3d8f-4417-845d-370ae56c3652\",\"type\":\"BasicTickFormatter\"},{\"attributes\":{},\"id\":\"76ed07d3-e7f9-45a7-ae5f-3a54e9d8b5a4\",\"type\":\"BasicTicker\"},{\"attributes\":{\"plot\":null,\"text\":\"sine function\"},\"id\":\"acf783ca-3867-4c9f-866c-35ac00d917d8\",\"type\":\"Title\"},{\"attributes\":{\"data_source\":{\"id\":\"e4c957f6-ee18-45a4-9ecf-704901451ef9\",\"type\":\"ColumnDataSource\"},\"glyph\":{\"id\":\"375173ad-eb3e-454d-b7c3-982488a3cc5b\",\"type\":\"Line\"},\"hover_glyph\":null,\"nonselection_glyph\":{\"id\":\"a065aa59-92b4-4963-b192-c8e9d1f442a9\",\"type\":\"Line\"},\"selection_glyph\":null},\"id\":\"773aff8b-e542-41f3-8ddf-37ba4040d664\",\"type\":\"GlyphRenderer\"},{\"attributes\":{\"overlay\":{\"id\":\"a9c64a08-076b-4fab-9e0e-d0eb1af54b49\",\"type\":\"BoxAnnotation\"},\"plot\":{\"id\":\"297390bb-a1a8-47d7-bc9a-2377f9d7ac23\",\"subtype\":\"Figure\",\"type\":\"Plot\"}},\"id\":\"5b69445e-e612-4e93-8d15-29369acf7ed4\",\"type\":\"BoxZoomTool\"},{\"attributes\":{\"active_drag\":\"auto\",\"active_scroll\":\"auto\",\"active_tap\":\"auto\",\"tools\":[{\"id\":\"979b03f3-d4e2-4712-95c4-bd74217d0d96\",\"type\":\"PanTool\"},{\"id\":\"5279adc6-cfe5-4493-b3bb-cb789af08dbd\",\"type\":\"WheelZoomTool\"},{\"id\":\"5b69445e-e612-4e93-8d15-29369acf7ed4\",\"type\":\"BoxZoomTool\"},{\"id\":\"b522e66b-928a-422f-8d08-969d63308e16\",\"type\":\"SaveTool\"},{\"id\":\"26ef5519-281c-4f79-985c-fdd9c44b63d7\",\"type\":\"ResetTool\"},{\"id\":\"140c8b17-a81a-492e-aee2-0377a96bf680\",\"type\":\"HelpTool\"}]},\"id\":\"ae5ff6ad-e995-4e2d-9092-711916936d5f\",\"type\":\"Toolbar\"},{\"attributes\":{\"bottom_units\":\"screen\",\"fill_alpha\":{\"value\":0.5},\"fill_color\":{\"value\":\"lightgrey\"},\"left_units\":\"screen\",\"level\":\"overlay\",\"line_alpha\":{\"value\":1.0},\"line_color\":{\"value\":\"black\"},\"line_dash\":[4,4],\"line_width\":{\"value\":2},\"plot\":null,\"render_mode\":\"css\",\"right_units\":\"screen\",\"top_units\":\"screen\"},\"id\":\"a9c64a08-076b-4fab-9e0e-d0eb1af54b49\",\"type\":\"BoxAnnotation\"}],\"root_ids\":[\"297390bb-a1a8-47d7-bc9a-2377f9d7ac23\"]},\"title\":\"Bokeh Application\",\"version\":\"0.12.3\"}};\n",
       "            var render_items = [{\"docid\":\"d4d8c45c-43f6-4967-9a6f-873aacb926de\",\"elementid\":\"e7e68715-5813-4c1f-a69b-d214ff458f1d\",\"modelid\":\"297390bb-a1a8-47d7-bc9a-2377f9d7ac23\"}];\n",
       "            \n",
       "            Bokeh.embed.embed_items(docs_json, render_items);\n",
       "        });\n",
       "      },\n",
       "      function(Bokeh) {\n",
       "      }\n",
       "    ];\n",
       "  \n",
       "    function run_inline_js() {\n",
       "      \n",
       "      if ((window.Bokeh !== undefined) || (force === \"1\")) {\n",
       "        for (var i = 0; i < inline_js.length; i++) {\n",
       "          inline_js[i](window.Bokeh);\n",
       "        }if (force === \"1\") {\n",
       "          display_loaded();\n",
       "        }} else if (Date.now() < window._bokeh_timeout) {\n",
       "        setTimeout(run_inline_js, 100);\n",
       "      } else if (!window._bokeh_failed_load) {\n",
       "        console.log(\"Bokeh: BokehJS failed to load within specified timeout.\");\n",
       "        window._bokeh_failed_load = true;\n",
       "      } else if (!force) {\n",
       "        var cell = $(\"#e7e68715-5813-4c1f-a69b-d214ff458f1d\").parents('.cell').data().cell;\n",
       "        cell.output_area.append_execute_result(NB_LOAD_WARNING)\n",
       "      }\n",
       "  \n",
       "    }\n",
       "  \n",
       "    if (window._bokeh_is_loading === 0) {\n",
       "      console.log(\"Bokeh: BokehJS loaded, going straight to plotting\");\n",
       "      run_inline_js();\n",
       "    } else {\n",
       "      load_libs(js_urls, function() {\n",
       "        console.log(\"Bokeh: BokehJS plotting callback run at\", now());\n",
       "        run_inline_js();\n",
       "      });\n",
       "    }\n",
       "  }(this));\n",
       "</script>"
      ]
     },
     "metadata": {},
     "output_type": "display_data"
    }
   ],
   "source": [
    "p = figure(title='sine function', x_axis_label='x',\n",
    "           y_axis_label='y', plot_height=300,\n",
    "           plot_width=300)\n",
    "p.line(x, y, line_width=2)\n",
    "show(p)"
   ]
  },
  {
   "cell_type": "markdown",
   "metadata": {
    "nbpresent": {
     "id": "b3c9623b-6d33-4671-bb8f-72edcdbcf2f2"
    }
   },
   "source": [
    "## Live code ?!?!?"
   ]
  },
  {
   "cell_type": "code",
   "execution_count": 25,
   "metadata": {
    "collapsed": false,
    "nbpresent": {
     "id": "50a9c25c-3e17-43cc-8427-2919f9e6b3a2"
    }
   },
   "outputs": [
    {
     "name": "stdout",
     "output_type": "stream",
     "text": [
      "[[ 0.          1.        ]\n",
      " [ 0.06346652  0.99798668]\n",
      " [ 0.12693304  0.99195481]\n",
      " [ 0.19039955  0.9819287 ]\n",
      " [ 0.25386607  0.9679487 ]\n",
      " [ 0.31733259  0.95007112]\n",
      " [ 0.38079911  0.92836793]\n",
      " [ 0.44426563  0.90292654]\n",
      " [ 0.50773215  0.87384938]\n",
      " [ 0.57119866  0.84125353]\n",
      " [ 0.63466518  0.80527026]\n",
      " [ 0.6981317   0.76604444]\n",
      " [ 0.76159822  0.72373404]\n",
      " [ 0.82506474  0.67850941]\n",
      " [ 0.88853126  0.63055267]\n",
      " [ 0.95199777  0.58005691]\n",
      " [ 1.01546429  0.52722547]\n",
      " [ 1.07893081  0.47227107]\n",
      " [ 1.14239733  0.41541501]\n",
      " [ 1.20586385  0.35688622]\n",
      " [ 1.26933037  0.29692038]\n",
      " [ 1.33279688  0.23575894]\n",
      " [ 1.3962634   0.17364818]\n",
      " [ 1.45972992  0.1108382 ]\n",
      " [ 1.52319644  0.04758192]\n",
      " [ 1.58666296 -0.01586596]\n",
      " [ 1.65012947 -0.07924996]\n",
      " [ 1.71359599 -0.14231484]\n",
      " [ 1.77706251 -0.20480667]\n",
      " [ 1.84052903 -0.26647381]\n",
      " [ 1.90399555 -0.32706796]\n",
      " [ 1.96746207 -0.38634513]\n",
      " [ 2.03092858 -0.44406661]\n",
      " [ 2.0943951  -0.5       ]\n",
      " [ 2.15786162 -0.55392006]\n",
      " [ 2.22132814 -0.60560969]\n",
      " [ 2.28479466 -0.65486073]\n",
      " [ 2.34826118 -0.70147489]\n",
      " [ 2.41172769 -0.74526445]\n",
      " [ 2.47519421 -0.78605309]\n",
      " [ 2.53866073 -0.82367658]\n",
      " [ 2.60212725 -0.85798341]\n",
      " [ 2.66559377 -0.88883545]\n",
      " [ 2.72906028 -0.91610846]\n",
      " [ 2.7925268  -0.93969262]\n",
      " [ 2.85599332 -0.95949297]\n",
      " [ 2.91945984 -0.97542979]\n",
      " [ 2.98292636 -0.98743889]\n",
      " [ 3.04639288 -0.99547192]\n",
      " [ 3.10985939 -0.99949654]\n",
      " [ 3.17332591 -0.99949654]\n",
      " [ 3.23679243 -0.99547192]\n",
      " [ 3.30025895 -0.98743889]\n",
      " [ 3.36372547 -0.97542979]\n",
      " [ 3.42719199 -0.95949297]\n",
      " [ 3.4906585  -0.93969262]\n",
      " [ 3.55412502 -0.91610846]\n",
      " [ 3.61759154 -0.88883545]\n",
      " [ 3.68105806 -0.85798341]\n",
      " [ 3.74452458 -0.82367658]\n",
      " [ 3.8079911  -0.78605309]\n",
      " [ 3.87145761 -0.74526445]\n",
      " [ 3.93492413 -0.70147489]\n",
      " [ 3.99839065 -0.65486073]\n",
      " [ 4.06185717 -0.60560969]\n",
      " [ 4.12532369 -0.55392006]\n",
      " [ 4.1887902  -0.5       ]\n",
      " [ 4.25225672 -0.44406661]\n",
      " [ 4.31572324 -0.38634513]\n",
      " [ 4.37918976 -0.32706796]\n",
      " [ 4.44265628 -0.26647381]\n",
      " [ 4.5061228  -0.20480667]\n",
      " [ 4.56958931 -0.14231484]\n",
      " [ 4.63305583 -0.07924996]\n",
      " [ 4.69652235 -0.01586596]\n",
      " [ 4.75998887  0.04758192]\n",
      " [ 4.82345539  0.1108382 ]\n",
      " [ 4.88692191  0.17364818]\n",
      " [ 4.95038842  0.23575894]\n",
      " [ 5.01385494  0.29692038]\n",
      " [ 5.07732146  0.35688622]\n",
      " [ 5.14078798  0.41541501]\n",
      " [ 5.2042545   0.47227107]\n",
      " [ 5.26772102  0.52722547]\n",
      " [ 5.33118753  0.58005691]\n",
      " [ 5.39465405  0.63055267]\n",
      " [ 5.45812057  0.67850941]\n",
      " [ 5.52158709  0.72373404]\n",
      " [ 5.58505361  0.76604444]\n",
      " [ 5.64852012  0.80527026]\n",
      " [ 5.71198664  0.84125353]\n",
      " [ 5.77545316  0.87384938]\n",
      " [ 5.83891968  0.90292654]\n",
      " [ 5.9023862   0.92836793]\n",
      " [ 5.96585272  0.95007112]\n",
      " [ 6.02931923  0.9679487 ]\n",
      " [ 6.09278575  0.9819287 ]\n",
      " [ 6.15625227  0.99195481]\n",
      " [ 6.21971879  0.99798668]\n",
      " [ 6.28318531  1.        ]]\n"
     ]
    },
    {
     "data": {
      "text/html": [
       "\n",
       "\n",
       "    <div class=\"bk-root\">\n",
       "        <div class=\"plotdiv\" id=\"381d2821-9e55-4cd8-8d21-9abe80a70bc3\"></div>\n",
       "    </div>\n",
       "<script type=\"text/javascript\">\n",
       "  \n",
       "  (function(global) {\n",
       "    function now() {\n",
       "      return new Date();\n",
       "    }\n",
       "  \n",
       "    var force = \"\";\n",
       "  \n",
       "    if (typeof (window._bokeh_onload_callbacks) === \"undefined\" || force !== \"\") {\n",
       "      window._bokeh_onload_callbacks = [];\n",
       "      window._bokeh_is_loading = undefined;\n",
       "    }\n",
       "  \n",
       "  \n",
       "    \n",
       "    if (typeof (window._bokeh_timeout) === \"undefined\" || force !== \"\") {\n",
       "      window._bokeh_timeout = Date.now() + 0;\n",
       "      window._bokeh_failed_load = false;\n",
       "    }\n",
       "  \n",
       "    var NB_LOAD_WARNING = {'data': {'text/html':\n",
       "       \"<div style='background-color: #fdd'>\\n\"+\n",
       "       \"<p>\\n\"+\n",
       "       \"BokehJS does not appear to have successfully loaded. If loading BokehJS from CDN, this \\n\"+\n",
       "       \"may be due to a slow or bad network connection. Possible fixes:\\n\"+\n",
       "       \"</p>\\n\"+\n",
       "       \"<ul>\\n\"+\n",
       "       \"<li>re-rerun `output_notebook()` to attempt to load from CDN again, or</li>\\n\"+\n",
       "       \"<li>use INLINE resources instead, as so:</li>\\n\"+\n",
       "       \"</ul>\\n\"+\n",
       "       \"<code>\\n\"+\n",
       "       \"from bokeh.resources import INLINE\\n\"+\n",
       "       \"output_notebook(resources=INLINE)\\n\"+\n",
       "       \"</code>\\n\"+\n",
       "       \"</div>\"}};\n",
       "  \n",
       "    function display_loaded() {\n",
       "      if (window.Bokeh !== undefined) {\n",
       "        Bokeh.$(\"#381d2821-9e55-4cd8-8d21-9abe80a70bc3\").text(\"BokehJS successfully loaded.\");\n",
       "      } else if (Date.now() < window._bokeh_timeout) {\n",
       "        setTimeout(display_loaded, 100)\n",
       "      }\n",
       "    }\n",
       "  \n",
       "    function run_callbacks() {\n",
       "      window._bokeh_onload_callbacks.forEach(function(callback) { callback() });\n",
       "      delete window._bokeh_onload_callbacks\n",
       "      console.info(\"Bokeh: all callbacks have finished\");\n",
       "    }\n",
       "  \n",
       "    function load_libs(js_urls, callback) {\n",
       "      window._bokeh_onload_callbacks.push(callback);\n",
       "      if (window._bokeh_is_loading > 0) {\n",
       "        console.log(\"Bokeh: BokehJS is being loaded, scheduling callback at\", now());\n",
       "        return null;\n",
       "      }\n",
       "      if (js_urls == null || js_urls.length === 0) {\n",
       "        run_callbacks();\n",
       "        return null;\n",
       "      }\n",
       "      console.log(\"Bokeh: BokehJS not loaded, scheduling load and callback at\", now());\n",
       "      window._bokeh_is_loading = js_urls.length;\n",
       "      for (var i = 0; i < js_urls.length; i++) {\n",
       "        var url = js_urls[i];\n",
       "        var s = document.createElement('script');\n",
       "        s.src = url;\n",
       "        s.async = false;\n",
       "        s.onreadystatechange = s.onload = function() {\n",
       "          window._bokeh_is_loading--;\n",
       "          if (window._bokeh_is_loading === 0) {\n",
       "            console.log(\"Bokeh: all BokehJS libraries loaded\");\n",
       "            run_callbacks()\n",
       "          }\n",
       "        };\n",
       "        s.onerror = function() {\n",
       "          console.warn(\"failed to load library \" + url);\n",
       "        };\n",
       "        console.log(\"Bokeh: injecting script tag for BokehJS library: \", url);\n",
       "        document.getElementsByTagName(\"head\")[0].appendChild(s);\n",
       "      }\n",
       "    };var element = document.getElementById(\"381d2821-9e55-4cd8-8d21-9abe80a70bc3\");\n",
       "    if (element == null) {\n",
       "      console.log(\"Bokeh: ERROR: autoload.js configured with elementid '381d2821-9e55-4cd8-8d21-9abe80a70bc3' but no matching script tag was found. \")\n",
       "      return false;\n",
       "    }\n",
       "  \n",
       "    var js_urls = [];\n",
       "  \n",
       "    var inline_js = [\n",
       "      function(Bokeh) {\n",
       "        Bokeh.$(function() {\n",
       "            var docs_json = {\"d83e0a3f-eb7d-478a-b2b4-d40ddd9c3b6d\":{\"roots\":{\"references\":[{\"attributes\":{\"callback\":null,\"column_names\":[\"y\",\"x\"],\"data\":{\"x\":[0.0,0.06346651825433926,0.12693303650867852,0.1903995547630178,0.25386607301735703,0.3173325912716963,0.3807991095260356,0.4442656277803748,0.5077321460347141,0.5711986642890533,0.6346651825433925,0.6981317007977318,0.7615982190520711,0.8250647373064104,0.8885312555607496,0.9519977738150889,1.0154642920694281,1.0789308103237674,1.1423973285781066,1.2058638468324459,1.269330365086785,1.3327968833411243,1.3962634015954636,1.4597299198498028,1.5231964381041423,1.5866629563584815,1.6501294746128208,1.71359599286716,1.7770625111214993,1.8405290293758385,1.9039955476301778,1.967462065884517,2.0309285841388562,2.0943951023931957,2.1578616206475347,2.221328138901874,2.284794657156213,2.3482611754105527,2.4117276936648917,2.475194211919231,2.53866073017357,2.6021272484279097,2.6655937666822487,2.729060284936588,2.792526803190927,2.8559933214452666,2.9194598396996057,2.982926357953945,3.0463928762082846,3.1098593944626236,3.173325912716963,3.236792430971302,3.3002589492256416,3.3637254674799806,3.42719198573432,3.490658503988659,3.5541250222429985,3.6175915404973376,3.681058058751677,3.744524577006016,3.8079910952603555,3.8714576135146945,3.934924131769034,3.998390650023373,4.0618571682777125,4.1253236865320515,4.188790204786391,4.25225672304073,4.3157232412950695,4.3791897595494085,4.442656277803748,4.506122796058087,4.569589314312426,4.6330558325667655,4.696522350821105,4.759988869075444,4.823455387329783,4.886921905584122,4.950388423838462,5.013854942092801,5.07732146034714,5.14078797860148,5.204254496855819,5.267721015110158,5.331187533364497,5.394654051618837,5.458120569873176,5.521587088127515,5.585053606381854,5.648520124636194,5.711986642890533,5.775453161144872,5.838919679399211,5.902386197653551,5.96585271590789,6.029319234162229,6.092785752416569,6.156252270670908,6.219718788925247,6.283185307179586],\"y\":[1.0,0.9979866764718844,0.9919548128307953,0.9819286972627067,0.9679487013963562,0.9500711177409453,0.9283679330160726,0.9029265382866212,0.8738493770697849,0.8412535328311812,0.8052702575310586,0.7660444431189781,0.7237340381050701,0.6785094115571322,0.6305526670845225,0.5800569095711983,0.5272254676105025,0.4722710747726827,0.41541501300188644,0.3568862215918719,0.2969203753282749,0.23575893550942728,0.17364817766693041,0.1108381999010111,0.04758191582374218,-0.01586596383480803,-0.07924995685678855,-0.14231483827328523,-0.20480666806519074,-0.26647381369003503,-0.32706796331742166,-0.3863451256931287,-0.4440666126057741,-0.5000000000000001,-0.5539200638661103,-0.6056096871376668,-0.654860733945285,-0.7014748877063214,-0.7452644496757547,-0.7860530947427875,-0.8236765814298327,-0.8579834132349771,-0.8888354486549234,-0.9161084574320697,-0.9396926207859083,-0.9594929736144974,-0.975429786885407,-0.9874388886763943,-0.9954719225730846,-0.9994965423831851,-0.9994965423831851,-0.9954719225730846,-0.9874388886763943,-0.975429786885407,-0.9594929736144974,-0.9396926207859084,-0.9161084574320696,-0.8888354486549235,-0.857983413234977,-0.8236765814298328,-0.7860530947427874,-0.7452644496757548,-0.7014748877063213,-0.6548607339452852,-0.6056096871376667,-0.5539200638661105,-0.49999999999999967,-0.44406661260577396,-0.3863451256931287,-0.3270679633174219,-0.26647381369003464,-0.20480666806519054,-0.14231483827328525,-0.07924995685678878,-0.01586596383480761,0.04758191582374238,0.11083819990101086,0.17364817766692997,0.23575893550942748,0.2969203753282749,0.35688622159187167,0.4154150130018868,0.47227107477268293,0.5272254676105024,0.5800569095711979,0.6305526670845227,0.6785094115571323,0.7237340381050701,0.7660444431189779,0.8052702575310589,0.8412535328311812,0.8738493770697848,0.9029265382866211,0.9283679330160727,0.9500711177409454,0.9679487013963562,0.9819286972627068,0.9919548128307953,0.9979866764718844,1.0]}},\"id\":\"9cb8a632-2293-46a0-88df-b95978b02f76\",\"type\":\"ColumnDataSource\"},{\"attributes\":{\"active_drag\":\"auto\",\"active_scroll\":\"auto\",\"active_tap\":\"auto\",\"tools\":[{\"id\":\"0e2f54a6-b038-45da-96cf-399766e8da46\",\"type\":\"PanTool\"},{\"id\":\"82e3ede9-70da-4a09-a7a7-3eac447798bc\",\"type\":\"WheelZoomTool\"},{\"id\":\"3d2d6838-59c2-4652-bde0-7ba271992fd0\",\"type\":\"BoxZoomTool\"},{\"id\":\"86f39894-153a-49d7-9175-da29ab79a981\",\"type\":\"SaveTool\"},{\"id\":\"45925e6e-e39e-4634-b234-cb1d3f4978c0\",\"type\":\"ResetTool\"},{\"id\":\"7723fc78-56f5-4865-9266-7f179e48c0ba\",\"type\":\"HelpTool\"}]},\"id\":\"e885e214-9b25-4a1c-8136-0c40aa2a6231\",\"type\":\"Toolbar\"},{\"attributes\":{\"plot\":{\"id\":\"0f2c9c48-8f60-496f-8ef9-3a146d4e86b1\",\"subtype\":\"Figure\",\"type\":\"Plot\"}},\"id\":\"86f39894-153a-49d7-9175-da29ab79a981\",\"type\":\"SaveTool\"},{\"attributes\":{},\"id\":\"72eb52b2-a04d-46fe-a744-8a8554ae71ab\",\"type\":\"BasicTickFormatter\"},{\"attributes\":{\"plot\":{\"id\":\"0f2c9c48-8f60-496f-8ef9-3a146d4e86b1\",\"subtype\":\"Figure\",\"type\":\"Plot\"}},\"id\":\"45925e6e-e39e-4634-b234-cb1d3f4978c0\",\"type\":\"ResetTool\"},{\"attributes\":{},\"id\":\"33c332e6-ff9f-4b20-8fb4-74c6fc6354ba\",\"type\":\"ToolEvents\"},{\"attributes\":{\"data_source\":{\"id\":\"9cb8a632-2293-46a0-88df-b95978b02f76\",\"type\":\"ColumnDataSource\"},\"glyph\":{\"id\":\"a1e128f4-f6b1-4c5f-820a-2671a41f4c9b\",\"type\":\"Line\"},\"hover_glyph\":null,\"nonselection_glyph\":{\"id\":\"4510a1b0-36d3-40b0-80c7-b6c15861824e\",\"type\":\"Line\"},\"selection_glyph\":null},\"id\":\"ba309bda-b7ac-4508-b4f4-1ff535acef15\",\"type\":\"GlyphRenderer\"},{\"attributes\":{\"line_alpha\":{\"value\":0.1},\"line_color\":{\"value\":\"#1f77b4\"},\"x\":{\"field\":\"x\"},\"y\":{\"field\":\"y\"}},\"id\":\"4510a1b0-36d3-40b0-80c7-b6c15861824e\",\"type\":\"Line\"},{\"attributes\":{\"dimension\":1,\"plot\":{\"id\":\"0f2c9c48-8f60-496f-8ef9-3a146d4e86b1\",\"subtype\":\"Figure\",\"type\":\"Plot\"},\"ticker\":{\"id\":\"3c85e180-81b9-4793-9583-e1b6d12fe044\",\"type\":\"BasicTicker\"}},\"id\":\"58c502d7-393b-4ae4-bcd9-f2a89994f540\",\"type\":\"Grid\"},{\"attributes\":{},\"id\":\"1b5470c8-a301-4755-b0e8-7d37854206cf\",\"type\":\"BasicTicker\"},{\"attributes\":{\"formatter\":{\"id\":\"1a804b42-edd9-4960-8a09-1a0566b629a6\",\"type\":\"BasicTickFormatter\"},\"plot\":{\"id\":\"0f2c9c48-8f60-496f-8ef9-3a146d4e86b1\",\"subtype\":\"Figure\",\"type\":\"Plot\"},\"ticker\":{\"id\":\"3c85e180-81b9-4793-9583-e1b6d12fe044\",\"type\":\"BasicTicker\"}},\"id\":\"eaa71813-df9d-4998-9097-6c3790abcdcc\",\"type\":\"LinearAxis\"},{\"attributes\":{\"plot\":null,\"text\":\"live code plot\"},\"id\":\"369d7dea-1ac5-4a08-8097-296b3c8ab26d\",\"type\":\"Title\"},{\"attributes\":{\"plot\":{\"id\":\"0f2c9c48-8f60-496f-8ef9-3a146d4e86b1\",\"subtype\":\"Figure\",\"type\":\"Plot\"}},\"id\":\"7723fc78-56f5-4865-9266-7f179e48c0ba\",\"type\":\"HelpTool\"},{\"attributes\":{\"bottom_units\":\"screen\",\"fill_alpha\":{\"value\":0.5},\"fill_color\":{\"value\":\"lightgrey\"},\"left_units\":\"screen\",\"level\":\"overlay\",\"line_alpha\":{\"value\":1.0},\"line_color\":{\"value\":\"black\"},\"line_dash\":[4,4],\"line_width\":{\"value\":2},\"plot\":null,\"render_mode\":\"css\",\"right_units\":\"screen\",\"top_units\":\"screen\"},\"id\":\"1c01a139-4c1e-4ffe-b86c-af236e0beb93\",\"type\":\"BoxAnnotation\"},{\"attributes\":{\"formatter\":{\"id\":\"72eb52b2-a04d-46fe-a744-8a8554ae71ab\",\"type\":\"BasicTickFormatter\"},\"plot\":{\"id\":\"0f2c9c48-8f60-496f-8ef9-3a146d4e86b1\",\"subtype\":\"Figure\",\"type\":\"Plot\"},\"ticker\":{\"id\":\"1b5470c8-a301-4755-b0e8-7d37854206cf\",\"type\":\"BasicTicker\"}},\"id\":\"c5c175e8-b765-4ef7-b2a4-2f387fe189b1\",\"type\":\"LinearAxis\"},{\"attributes\":{\"callback\":null},\"id\":\"7ece736f-45be-483b-9eed-7f6a01de0264\",\"type\":\"DataRange1d\"},{\"attributes\":{\"below\":[{\"id\":\"c5c175e8-b765-4ef7-b2a4-2f387fe189b1\",\"type\":\"LinearAxis\"}],\"left\":[{\"id\":\"eaa71813-df9d-4998-9097-6c3790abcdcc\",\"type\":\"LinearAxis\"}],\"plot_height\":300,\"plot_width\":300,\"renderers\":[{\"id\":\"c5c175e8-b765-4ef7-b2a4-2f387fe189b1\",\"type\":\"LinearAxis\"},{\"id\":\"2e00c290-9547-4df7-95ed-c72cbbae2798\",\"type\":\"Grid\"},{\"id\":\"eaa71813-df9d-4998-9097-6c3790abcdcc\",\"type\":\"LinearAxis\"},{\"id\":\"58c502d7-393b-4ae4-bcd9-f2a89994f540\",\"type\":\"Grid\"},{\"id\":\"1c01a139-4c1e-4ffe-b86c-af236e0beb93\",\"type\":\"BoxAnnotation\"},{\"id\":\"ba309bda-b7ac-4508-b4f4-1ff535acef15\",\"type\":\"GlyphRenderer\"}],\"title\":{\"id\":\"369d7dea-1ac5-4a08-8097-296b3c8ab26d\",\"type\":\"Title\"},\"tool_events\":{\"id\":\"33c332e6-ff9f-4b20-8fb4-74c6fc6354ba\",\"type\":\"ToolEvents\"},\"toolbar\":{\"id\":\"e885e214-9b25-4a1c-8136-0c40aa2a6231\",\"type\":\"Toolbar\"},\"x_range\":{\"id\":\"7ece736f-45be-483b-9eed-7f6a01de0264\",\"type\":\"DataRange1d\"},\"y_range\":{\"id\":\"3311bac8-e4a0-4b25-ab34-ada51152ac09\",\"type\":\"DataRange1d\"}},\"id\":\"0f2c9c48-8f60-496f-8ef9-3a146d4e86b1\",\"subtype\":\"Figure\",\"type\":\"Plot\"},{\"attributes\":{\"callback\":null},\"id\":\"3311bac8-e4a0-4b25-ab34-ada51152ac09\",\"type\":\"DataRange1d\"},{\"attributes\":{\"plot\":{\"id\":\"0f2c9c48-8f60-496f-8ef9-3a146d4e86b1\",\"subtype\":\"Figure\",\"type\":\"Plot\"}},\"id\":\"82e3ede9-70da-4a09-a7a7-3eac447798bc\",\"type\":\"WheelZoomTool\"},{\"attributes\":{\"plot\":{\"id\":\"0f2c9c48-8f60-496f-8ef9-3a146d4e86b1\",\"subtype\":\"Figure\",\"type\":\"Plot\"}},\"id\":\"0e2f54a6-b038-45da-96cf-399766e8da46\",\"type\":\"PanTool\"},{\"attributes\":{\"line_color\":{\"value\":\"#1f77b4\"},\"x\":{\"field\":\"x\"},\"y\":{\"field\":\"y\"}},\"id\":\"a1e128f4-f6b1-4c5f-820a-2671a41f4c9b\",\"type\":\"Line\"},{\"attributes\":{},\"id\":\"3c85e180-81b9-4793-9583-e1b6d12fe044\",\"type\":\"BasicTicker\"},{\"attributes\":{\"plot\":{\"id\":\"0f2c9c48-8f60-496f-8ef9-3a146d4e86b1\",\"subtype\":\"Figure\",\"type\":\"Plot\"},\"ticker\":{\"id\":\"1b5470c8-a301-4755-b0e8-7d37854206cf\",\"type\":\"BasicTicker\"}},\"id\":\"2e00c290-9547-4df7-95ed-c72cbbae2798\",\"type\":\"Grid\"},{\"attributes\":{},\"id\":\"1a804b42-edd9-4960-8a09-1a0566b629a6\",\"type\":\"BasicTickFormatter\"},{\"attributes\":{\"overlay\":{\"id\":\"1c01a139-4c1e-4ffe-b86c-af236e0beb93\",\"type\":\"BoxAnnotation\"},\"plot\":{\"id\":\"0f2c9c48-8f60-496f-8ef9-3a146d4e86b1\",\"subtype\":\"Figure\",\"type\":\"Plot\"}},\"id\":\"3d2d6838-59c2-4652-bde0-7ba271992fd0\",\"type\":\"BoxZoomTool\"}],\"root_ids\":[\"0f2c9c48-8f60-496f-8ef9-3a146d4e86b1\"]},\"title\":\"Bokeh Application\",\"version\":\"0.12.3\"}};\n",
       "            var render_items = [{\"docid\":\"d83e0a3f-eb7d-478a-b2b4-d40ddd9c3b6d\",\"elementid\":\"381d2821-9e55-4cd8-8d21-9abe80a70bc3\",\"modelid\":\"0f2c9c48-8f60-496f-8ef9-3a146d4e86b1\"}];\n",
       "            \n",
       "            Bokeh.embed.embed_items(docs_json, render_items);\n",
       "        });\n",
       "      },\n",
       "      function(Bokeh) {\n",
       "      }\n",
       "    ];\n",
       "  \n",
       "    function run_inline_js() {\n",
       "      \n",
       "      if ((window.Bokeh !== undefined) || (force === \"1\")) {\n",
       "        for (var i = 0; i < inline_js.length; i++) {\n",
       "          inline_js[i](window.Bokeh);\n",
       "        }if (force === \"1\") {\n",
       "          display_loaded();\n",
       "        }} else if (Date.now() < window._bokeh_timeout) {\n",
       "        setTimeout(run_inline_js, 100);\n",
       "      } else if (!window._bokeh_failed_load) {\n",
       "        console.log(\"Bokeh: BokehJS failed to load within specified timeout.\");\n",
       "        window._bokeh_failed_load = true;\n",
       "      } else if (!force) {\n",
       "        var cell = $(\"#381d2821-9e55-4cd8-8d21-9abe80a70bc3\").parents('.cell').data().cell;\n",
       "        cell.output_area.append_execute_result(NB_LOAD_WARNING)\n",
       "      }\n",
       "  \n",
       "    }\n",
       "  \n",
       "    if (window._bokeh_is_loading === 0) {\n",
       "      console.log(\"Bokeh: BokehJS loaded, going straight to plotting\");\n",
       "      run_inline_js();\n",
       "    } else {\n",
       "      load_libs(js_urls, function() {\n",
       "        console.log(\"Bokeh: BokehJS plotting callback run at\", now());\n",
       "        run_inline_js();\n",
       "      });\n",
       "    }\n",
       "  }(this));\n",
       "</script>"
      ]
     },
     "metadata": {},
     "output_type": "display_data"
    }
   ],
   "source": [
    "# print('can I live code here?')\n",
    "p_test = figure(plot_width=300, plot_height=300, title='live code plot')\n",
    "plot_data = np.vstack((x, np.cos(x))).T\n",
    "print(plot_data)\n",
    "p_test.line(plot_data[:, 0], plot_data[:, 1])\n",
    "show(p_test)"
   ]
  },
  {
   "cell_type": "markdown",
   "metadata": {
    "nbpresent": {
     "id": "7346539f-2c92-4516-bfc6-f7a6b5ff9a38"
    }
   },
   "source": [
    "# That was great!"
   ]
  },
  {
   "cell_type": "code",
   "execution_count": null,
   "metadata": {
    "collapsed": true
   },
   "outputs": [],
   "source": []
  },
  {
   "cell_type": "code",
   "execution_count": null,
   "metadata": {
    "collapsed": true
   },
   "outputs": [],
   "source": []
  },
  {
   "cell_type": "code",
   "execution_count": null,
   "metadata": {
    "collapsed": true
   },
   "outputs": [],
   "source": []
  }
 ],
 "metadata": {
  "anaconda-cloud": {},
  "kernelspec": {
   "display_name": "Python [default]",
   "language": "python",
   "name": "python3"
  },
  "language_info": {
   "codemirror_mode": {
    "name": "ipython",
    "version": 3
   },
   "file_extension": ".py",
   "mimetype": "text/x-python",
   "name": "python",
   "nbconvert_exporter": "python",
   "pygments_lexer": "ipython3",
   "version": "3.5.2"
  },
  "nbpresent": {
   "slides": {
    "27b281ec-e94f-4d67-8112-497ab0e5efdf": {
     "id": "27b281ec-e94f-4d67-8112-497ab0e5efdf",
     "prev": "f74b2c2a-88f8-4b28-80bc-61286918d45a",
     "regions": {
      "93adcd9b-5dfd-490f-ad16-033a5604eb30": {
       "attrs": {
        "height": 0.4,
        "width": 0.4,
        "x": 0.5,
        "y": 0.5
       },
       "content": {
        "cell": "7dab0746-41a8-49f0-abcd-95dac79f1f00",
        "part": "outputs"
       },
       "id": "93adcd9b-5dfd-490f-ad16-033a5604eb30"
      },
      "98567da7-d20a-4f01-ae3d-6da320e08ef0": {
       "attrs": {
        "height": 0.4,
        "width": 0.4,
        "x": 0.1,
        "y": 0.1
       },
       "content": {
        "cell": "6811bdb9-a356-430b-91ac-894a63226fb4",
        "part": "source"
       },
       "id": "98567da7-d20a-4f01-ae3d-6da320e08ef0"
      },
      "ccb298b1-0005-4065-831e-6e8d7359e825": {
       "attrs": {
        "height": 0.4,
        "width": 0.4,
        "x": 0.1,
        "y": 0.5
       },
       "content": {
        "cell": "1aaea62d-aa53-4dea-9b6a-b266bb7d3dd1",
        "part": "source"
       },
       "id": "ccb298b1-0005-4065-831e-6e8d7359e825"
      },
      "e18ee396-9c69-4018-b4cd-e7eda8bbadfe": {
       "attrs": {
        "height": 0.4,
        "width": 0.4,
        "x": 0.5,
        "y": 0.1
       },
       "content": {
        "cell": "7dab0746-41a8-49f0-abcd-95dac79f1f00",
        "part": "source"
       },
       "id": "e18ee396-9c69-4018-b4cd-e7eda8bbadfe"
      }
     }
    },
    "7a1e7c3d-29e8-4c7b-aacb-58557b4aa643": {
     "id": "7a1e7c3d-29e8-4c7b-aacb-58557b4aa643",
     "prev": "27b281ec-e94f-4d67-8112-497ab0e5efdf",
     "regions": {
      "3552c7a6-30ab-4c87-a671-61cbc03357c8": {
       "attrs": {
        "height": 0.6,
        "width": 0.8,
        "x": 0.09571594908610496,
        "y": 0.32086660552542906
       },
       "content": {
        "cell": "50a9c25c-3e17-43cc-8427-2919f9e6b3a2",
        "part": "whole"
       },
       "id": "3552c7a6-30ab-4c87-a671-61cbc03357c8"
      },
      "b1124ec1-29e6-4844-ab45-343652946191": {
       "attrs": {
        "height": 0.2,
        "width": 0.4,
        "x": 0.5000038812009114,
        "y": 0.04517102255131993
       },
       "id": "b1124ec1-29e6-4844-ab45-343652946191"
      },
      "ceb32a31-eefc-4d97-a84c-901a6501a5c2": {
       "attrs": {
        "height": 0.2,
        "width": 0.4,
        "x": 0.0981953334764339,
        "y": 0.042477538362001035
       },
       "content": {
        "cell": "b3c9623b-6d33-4671-bb8f-72edcdbcf2f2",
        "part": "source"
       },
       "id": "ceb32a31-eefc-4d97-a84c-901a6501a5c2"
      }
     }
    },
    "9edd9391-9934-472f-a788-b50a241dedb8": {
     "id": "9edd9391-9934-472f-a788-b50a241dedb8",
     "prev": null,
     "regions": {
      "57961556-bf22-49aa-bac8-e08000861de8": {
       "attrs": {
        "height": 1,
        "width": 1,
        "x": 0,
        "y": 0
       },
       "content": {
        "cell": "cba22e48-d15e-4411-a8f4-40d9ca8b68a8",
        "part": "source"
       },
       "id": "57961556-bf22-49aa-bac8-e08000861de8"
      }
     }
    },
    "de54c7c9-0f03-4995-9b71-82a631b31568": {
     "id": "de54c7c9-0f03-4995-9b71-82a631b31568",
     "prev": "7a1e7c3d-29e8-4c7b-aacb-58557b4aa643",
     "regions": {
      "9cea063d-aa3e-45d4-90bc-e1340b4b9352": {
       "attrs": {
        "height": 1,
        "width": 1,
        "x": 0,
        "y": 0
       },
       "content": {
        "cell": "7346539f-2c92-4516-bfc6-f7a6b5ff9a38",
        "part": "source"
       },
       "id": "9cea063d-aa3e-45d4-90bc-e1340b4b9352"
      }
     }
    },
    "f74b2c2a-88f8-4b28-80bc-61286918d45a": {
     "id": "f74b2c2a-88f8-4b28-80bc-61286918d45a",
     "prev": "9edd9391-9934-472f-a788-b50a241dedb8",
     "regions": {
      "83e2704a-d7e0-41c0-acdf-2e7cc7f3ee1b": {
       "attrs": {
        "height": 0.8,
        "width": 0.45,
        "x": 0.05,
        "y": 0.1
       },
       "content": {
        "cell": "7613fd37-b3c6-458a-9b9b-4a2d34a9e735",
        "part": "source"
       },
       "id": "83e2704a-d7e0-41c0-acdf-2e7cc7f3ee1b"
      },
      "c73f6796-69c7-4b7c-bac0-ce4d476d8525": {
       "attrs": {
        "height": 0.8,
        "width": 0.45,
        "x": 0.5,
        "y": 0.1
       },
       "content": {
        "cell": "242120e6-bfd3-44e5-8798-7170b82c2cd7",
        "part": "source"
       },
       "id": "c73f6796-69c7-4b7c-bac0-ce4d476d8525"
      }
     }
    }
   },
   "themes": {
    "default": "7afc5de2-2ba4-43f3-a85f-f4f99870f1eb",
    "theme": {
     "04b1346d-ea8b-4913-9a78-7a818929ddf5": {
      "id": "04b1346d-ea8b-4913-9a78-7a818929ddf5",
      "palette": {
       "19cc588f-0593-49c9-9f4b-e4d7cc113b1c": {
        "id": "19cc588f-0593-49c9-9f4b-e4d7cc113b1c",
        "rgb": [
         252,
         252,
         252
        ]
       },
       "31af15d2-7e15-44c5-ab5e-e04b16a89eff": {
        "id": "31af15d2-7e15-44c5-ab5e-e04b16a89eff",
        "rgb": [
         68,
         68,
         68
        ]
       },
       "50f92c45-a630-455b-aec3-788680ec7410": {
        "id": "50f92c45-a630-455b-aec3-788680ec7410",
        "rgb": [
         155,
         177,
         192
        ]
       },
       "c5cc3653-2ee1-402a-aba2-7caae1da4f6c": {
        "id": "c5cc3653-2ee1-402a-aba2-7caae1da4f6c",
        "rgb": [
         43,
         126,
         184
        ]
       },
       "efa7f048-9acb-414c-8b04-a26811511a21": {
        "id": "efa7f048-9acb-414c-8b04-a26811511a21",
        "rgb": [
         25.118061674008803,
         73.60176211453744,
         107.4819383259912
        ]
       }
      },
      "rules": {
       "blockquote": {
        "color": "50f92c45-a630-455b-aec3-788680ec7410"
       },
       "code": {
        "font-family": "Anonymous Pro"
       },
       "h1": {
        "color": "c5cc3653-2ee1-402a-aba2-7caae1da4f6c",
        "font-family": "Lato",
        "font-size": 8
       },
       "h2": {
        "color": "c5cc3653-2ee1-402a-aba2-7caae1da4f6c",
        "font-family": "Lato",
        "font-size": 6
       },
       "h3": {
        "color": "50f92c45-a630-455b-aec3-788680ec7410",
        "font-family": "Lato",
        "font-size": 5.5
       },
       "h4": {
        "color": "c5cc3653-2ee1-402a-aba2-7caae1da4f6c",
        "font-family": "Lato",
        "font-size": 5
       },
       "h5": {
        "font-family": "Lato"
       },
       "h6": {
        "font-family": "Lato"
       },
       "h7": {
        "font-family": "Lato"
       },
       "pre": {
        "font-family": "Anonymous Pro",
        "font-size": 4
       }
      },
      "text-base": {
       "font-family": "Merriweather",
       "font-size": 4
      }
     },
     "7afc5de2-2ba4-43f3-a85f-f4f99870f1eb": {
      "backgrounds": {
       "backgroundColor": {
        "background-color": "backgroundColor",
        "id": "backgroundColor"
       }
      },
      "id": "7afc5de2-2ba4-43f3-a85f-f4f99870f1eb",
      "palette": {
       "backgroundColor": {
        "id": "backgroundColor",
        "rgb": [
         43,
         43,
         43
        ]
       },
       "headingColor": {
        "id": "headingColor",
        "rgb": [
         238,
         238,
         238
        ]
       },
       "linkColor": {
        "id": "linkColor",
        "rgb": [
         19,
         218,
         236
        ]
       },
       "mainColor": {
        "id": "mainColor",
        "rgb": [
         238,
         238,
         238
        ]
       }
      },
      "rules": {
       "a": {
        "color": "linkColor"
       },
       "h1": {
        "color": "headingColor",
        "font-family": "Oswald",
        "font-size": 7
       },
       "h2": {
        "color": "headingColor",
        "font-family": "Oswald",
        "font-size": 5
       },
       "h3": {
        "color": "headingColor",
        "font-family": "Oswald",
        "font-size": 3.75
       },
       "h4": {
        "color": "headingColor",
        "font-family": "Oswald",
        "font-size": 3
       },
       "h5": {
        "color": "headingColor",
        "font-family": "Oswald"
       },
       "h6": {
        "color": "headingColor",
        "font-family": "Oswald"
       },
       "h7": {
        "color": "headingColor",
        "font-family": "Oswald"
       },
       "li": {
        "color": "mainColor",
        "font-family": "Lato",
        "font-size": 5
       },
       "p": {
        "color": "mainColor",
        "font-family": "Lato",
        "font-size": 5
       }
      },
      "text-base": {
       "color": "mainColor",
       "font-family": "Lato",
       "font-size": 5
      }
     }
    }
   }
  }
 },
 "nbformat": 4,
 "nbformat_minor": 1
}
